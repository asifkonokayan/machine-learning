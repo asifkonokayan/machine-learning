{
  "nbformat": 4,
  "nbformat_minor": 0,
  "metadata": {
    "colab": {
      "provenance": [],
      "authorship_tag": "ABX9TyOlHoqugI2h3Ifh9zY6vGcp",
      "include_colab_link": true
    },
    "kernelspec": {
      "name": "python3",
      "display_name": "Python 3"
    },
    "language_info": {
      "name": "python"
    }
  },
  "cells": [
    {
      "cell_type": "markdown",
      "metadata": {
        "id": "view-in-github",
        "colab_type": "text"
      },
      "source": [
        "<a href=\"https://colab.research.google.com/github/asifkonokayan/machine-learning/blob/main/ransomewar.ipynb\" target=\"_parent\"><img src=\"https://colab.research.google.com/assets/colab-badge.svg\" alt=\"Open In Colab\"/></a>"
      ]
    },
    {
      "cell_type": "code",
      "execution_count": null,
      "metadata": {
        "colab": {
          "base_uri": "https://localhost:8080/"
        },
        "id": "raryaATfS8h9",
        "outputId": "ab3708dd-5608-4cbd-ed09-3a638caf51fd"
      },
      "outputs": [
        {
          "output_type": "stream",
          "name": "stdout",
          "text": [
            "Mounted at /content/drive\n"
          ]
        }
      ],
      "source": [
        "import pandas as pd\n",
        "from google.colab import drive\n",
        "drive.mount ('/content/drive')"
      ]
    },
    {
      "cell_type": "code",
      "source": [
        "df = pd.read_csv('/content/drive/MyDrive/data set/Final_Dataset_without_duplicate.csv')"
      ],
      "metadata": {
        "id": "Ze1mzlhnTqv1"
      },
      "execution_count": null,
      "outputs": []
    },
    {
      "cell_type": "code",
      "source": [
        "print(\"Dataset loaded successfully.\")"
      ],
      "metadata": {
        "colab": {
          "base_uri": "https://localhost:8080/"
        },
        "id": "EPeHCmnuVWc0",
        "outputId": "2844612a-11b8-4b27-be5e-dd738376339e"
      },
      "execution_count": null,
      "outputs": [
        {
          "output_type": "stream",
          "name": "stdout",
          "text": [
            "Dataset loaded successfully.\n"
          ]
        }
      ]
    },
    {
      "cell_type": "code",
      "source": [
        "print(\"Shape:\", df.shape)\n"
      ],
      "metadata": {
        "colab": {
          "base_uri": "https://localhost:8080/"
        },
        "id": "b0FXI8gLVZCU",
        "outputId": "00d793a3-242d-4041-fdd4-804248d91d8b"
      },
      "execution_count": null,
      "outputs": [
        {
          "output_type": "stream",
          "name": "stdout",
          "text": [
            "Shape: (21752, 77)\n"
          ]
        }
      ]
    },
    {
      "cell_type": "code",
      "source": [
        "print(\"Columns:\", df.columns.tolist())"
      ],
      "metadata": {
        "colab": {
          "base_uri": "https://localhost:8080/"
        },
        "id": "rsGgKIpsVmJs",
        "outputId": "0b841c2e-9891-4776-c00e-1e54c6679502"
      },
      "execution_count": null,
      "outputs": [
        {
          "output_type": "stream",
          "name": "stdout",
          "text": [
            "Columns: ['md5', 'sha1', 'file_extension', 'EntryPoint', 'PEType', 'MachineType', 'magic_number', 'bytes_on_last_page', 'pages_in_file', 'relocations', 'size_of_header', 'min_extra_paragraphs', 'max_extra_paragraphs', 'init_ss_value', 'init_sp_value', 'init_ip_value', 'init_cs_value', 'over_lay_number', 'oem_identifier', 'address_of_ne_header', 'Magic', 'SizeOfCode', 'SizeOfInitializedData', 'SizeOfUninitializedData', 'AddressOfEntryPoint', 'BaseOfCode', 'BaseOfData', 'ImageBase', 'SectionAlignment', 'FileAlignment', 'OperatingSystemVersion', 'ImageVersion', 'SizeOfImage', 'SizeOfHeaders', 'Checksum', 'Subsystem', 'DllCharacteristics', 'SizeofStackReserve', 'SizeofStackCommit', 'SizeofHeapCommit', 'SizeofHeapReserve', 'LoaderFlags', 'text_VirtualSize', 'text_VirtualAddress', 'text_SizeOfRawData', 'text_PointerToRawData', 'text_PointerToRelocations', 'text_PointerToLineNumbers', 'text_Characteristics', 'rdata_VirtualSize', 'rdata_VirtualAddress', 'rdata_SizeOfRawData', 'rdata_PointerToRawData', 'rdata_PointerToRelocations', 'rdata_PointerToLineNumbers', 'rdata_Characteristics', 'registry_read', 'registry_write', 'registry_delete', 'registry_total', 'network_threats', 'network_dns', 'network_http', 'network_connections', 'processes_malicious', 'processes_suspicious', 'processes_monitored', 'total_procsses', 'files_malicious', 'files_suspicious', 'files_text', 'files_unknown', 'dlls_calls', 'apis', 'Class', 'Category', 'Family']\n"
          ]
        }
      ]
    },
    {
      "cell_type": "code",
      "source": [
        "df.head()"
      ],
      "metadata": {
        "colab": {
          "base_uri": "https://localhost:8080/",
          "height": 325
        },
        "id": "DlR-sV8VVuwc",
        "outputId": "02f6070a-8f8d-49dd-c993-06f33a79472b"
      },
      "execution_count": null,
      "outputs": [
        {
          "output_type": "execute_result",
          "data": {
            "text/plain": [
              "                                md5                                      sha1  \\\n",
              "0  d5aa2b2506dd71b65307bb551a6a099d  62f4d55a1bb8396e493d7815dc44febed7161535   \n",
              "1  8d1178cec97f96a9ede3efe2f30ef30e  ca40945a4e35d48794a5e13aacf16b8ae1caddeb   \n",
              "2  c08d7afb7966f452cf5aa9283fe8880a  6f47b50480bea61ae4dfb75c12582990cc5ce770   \n",
              "3  3554a3a99e7ffb57552aedcb2520f1d2  8c3d5b506a8d55f42f4c83ead3e4341255d1acfc   \n",
              "4  5be9511d42136df49d9501680e84109f  0a7d0c68c591db2f197b2169d226bebe6e9bdabe   \n",
              "\n",
              "  file_extension EntryPoint PEType                          MachineType  \\\n",
              "0            exe    0x108ec  PE32+                            AMD AMD64   \n",
              "1            exe   0x25cf9c  PE32+                            AMD AMD64   \n",
              "2            exe     0x2a7e   PE32  Intel 386 or later, and compatibles   \n",
              "3            exe    0x64ca0  PE32+                            AMD AMD64   \n",
              "4            exe    0x1b9ae   PE32  Intel 386 or later, and compatibles   \n",
              "\n",
              "  magic_number bytes_on_last_page pages_in_file relocations  ...  \\\n",
              "0           MZ             0x0090        0x0003      0x0000  ...   \n",
              "1           MZ             0x0090        0x0003      0x0000  ...   \n",
              "2           MZ             0x0090        0x0003      0x0000  ...   \n",
              "3           MZ             0x0090        0x0003      0x0004  ...   \n",
              "4           MZ             0x0090        0x0003      0x0000  ...   \n",
              "\n",
              "  total_procsses files_malicious files_suspicious files_text files_unknown  \\\n",
              "0            0.0             0.0              0.0        0.0           0.0   \n",
              "1           93.0             0.0              0.0        0.0           0.0   \n",
              "2           35.0             0.0              0.0        0.0           0.0   \n",
              "3            0.0             0.0              0.0        0.0           0.0   \n",
              "4           36.0             0.0              0.0        0.0           0.0   \n",
              "\n",
              "  dlls_calls   apis   Class Category  Family  \n",
              "0        6.0  162.0  Benign   Benign  Benign  \n",
              "1       22.0  778.0  Benign   Benign  Benign  \n",
              "2        1.0    1.0  Benign   Benign  Benign  \n",
              "3        1.0   40.0  Benign   Benign  Benign  \n",
              "4        1.0    1.0  Benign   Benign  Benign  \n",
              "\n",
              "[5 rows x 77 columns]"
            ],
            "text/html": [
              "\n",
              "  <div id=\"df-a8716a35-ee80-444b-9612-8e946e6d5d8b\" class=\"colab-df-container\">\n",
              "    <div>\n",
              "<style scoped>\n",
              "    .dataframe tbody tr th:only-of-type {\n",
              "        vertical-align: middle;\n",
              "    }\n",
              "\n",
              "    .dataframe tbody tr th {\n",
              "        vertical-align: top;\n",
              "    }\n",
              "\n",
              "    .dataframe thead th {\n",
              "        text-align: right;\n",
              "    }\n",
              "</style>\n",
              "<table border=\"1\" class=\"dataframe\">\n",
              "  <thead>\n",
              "    <tr style=\"text-align: right;\">\n",
              "      <th></th>\n",
              "      <th>md5</th>\n",
              "      <th>sha1</th>\n",
              "      <th>file_extension</th>\n",
              "      <th>EntryPoint</th>\n",
              "      <th>PEType</th>\n",
              "      <th>MachineType</th>\n",
              "      <th>magic_number</th>\n",
              "      <th>bytes_on_last_page</th>\n",
              "      <th>pages_in_file</th>\n",
              "      <th>relocations</th>\n",
              "      <th>...</th>\n",
              "      <th>total_procsses</th>\n",
              "      <th>files_malicious</th>\n",
              "      <th>files_suspicious</th>\n",
              "      <th>files_text</th>\n",
              "      <th>files_unknown</th>\n",
              "      <th>dlls_calls</th>\n",
              "      <th>apis</th>\n",
              "      <th>Class</th>\n",
              "      <th>Category</th>\n",
              "      <th>Family</th>\n",
              "    </tr>\n",
              "  </thead>\n",
              "  <tbody>\n",
              "    <tr>\n",
              "      <th>0</th>\n",
              "      <td>d5aa2b2506dd71b65307bb551a6a099d</td>\n",
              "      <td>62f4d55a1bb8396e493d7815dc44febed7161535</td>\n",
              "      <td>exe</td>\n",
              "      <td>0x108ec</td>\n",
              "      <td>PE32+</td>\n",
              "      <td>AMD AMD64</td>\n",
              "      <td>MZ</td>\n",
              "      <td>0x0090</td>\n",
              "      <td>0x0003</td>\n",
              "      <td>0x0000</td>\n",
              "      <td>...</td>\n",
              "      <td>0.0</td>\n",
              "      <td>0.0</td>\n",
              "      <td>0.0</td>\n",
              "      <td>0.0</td>\n",
              "      <td>0.0</td>\n",
              "      <td>6.0</td>\n",
              "      <td>162.0</td>\n",
              "      <td>Benign</td>\n",
              "      <td>Benign</td>\n",
              "      <td>Benign</td>\n",
              "    </tr>\n",
              "    <tr>\n",
              "      <th>1</th>\n",
              "      <td>8d1178cec97f96a9ede3efe2f30ef30e</td>\n",
              "      <td>ca40945a4e35d48794a5e13aacf16b8ae1caddeb</td>\n",
              "      <td>exe</td>\n",
              "      <td>0x25cf9c</td>\n",
              "      <td>PE32+</td>\n",
              "      <td>AMD AMD64</td>\n",
              "      <td>MZ</td>\n",
              "      <td>0x0090</td>\n",
              "      <td>0x0003</td>\n",
              "      <td>0x0000</td>\n",
              "      <td>...</td>\n",
              "      <td>93.0</td>\n",
              "      <td>0.0</td>\n",
              "      <td>0.0</td>\n",
              "      <td>0.0</td>\n",
              "      <td>0.0</td>\n",
              "      <td>22.0</td>\n",
              "      <td>778.0</td>\n",
              "      <td>Benign</td>\n",
              "      <td>Benign</td>\n",
              "      <td>Benign</td>\n",
              "    </tr>\n",
              "    <tr>\n",
              "      <th>2</th>\n",
              "      <td>c08d7afb7966f452cf5aa9283fe8880a</td>\n",
              "      <td>6f47b50480bea61ae4dfb75c12582990cc5ce770</td>\n",
              "      <td>exe</td>\n",
              "      <td>0x2a7e</td>\n",
              "      <td>PE32</td>\n",
              "      <td>Intel 386 or later, and compatibles</td>\n",
              "      <td>MZ</td>\n",
              "      <td>0x0090</td>\n",
              "      <td>0x0003</td>\n",
              "      <td>0x0000</td>\n",
              "      <td>...</td>\n",
              "      <td>35.0</td>\n",
              "      <td>0.0</td>\n",
              "      <td>0.0</td>\n",
              "      <td>0.0</td>\n",
              "      <td>0.0</td>\n",
              "      <td>1.0</td>\n",
              "      <td>1.0</td>\n",
              "      <td>Benign</td>\n",
              "      <td>Benign</td>\n",
              "      <td>Benign</td>\n",
              "    </tr>\n",
              "    <tr>\n",
              "      <th>3</th>\n",
              "      <td>3554a3a99e7ffb57552aedcb2520f1d2</td>\n",
              "      <td>8c3d5b506a8d55f42f4c83ead3e4341255d1acfc</td>\n",
              "      <td>exe</td>\n",
              "      <td>0x64ca0</td>\n",
              "      <td>PE32+</td>\n",
              "      <td>AMD AMD64</td>\n",
              "      <td>MZ</td>\n",
              "      <td>0x0090</td>\n",
              "      <td>0x0003</td>\n",
              "      <td>0x0004</td>\n",
              "      <td>...</td>\n",
              "      <td>0.0</td>\n",
              "      <td>0.0</td>\n",
              "      <td>0.0</td>\n",
              "      <td>0.0</td>\n",
              "      <td>0.0</td>\n",
              "      <td>1.0</td>\n",
              "      <td>40.0</td>\n",
              "      <td>Benign</td>\n",
              "      <td>Benign</td>\n",
              "      <td>Benign</td>\n",
              "    </tr>\n",
              "    <tr>\n",
              "      <th>4</th>\n",
              "      <td>5be9511d42136df49d9501680e84109f</td>\n",
              "      <td>0a7d0c68c591db2f197b2169d226bebe6e9bdabe</td>\n",
              "      <td>exe</td>\n",
              "      <td>0x1b9ae</td>\n",
              "      <td>PE32</td>\n",
              "      <td>Intel 386 or later, and compatibles</td>\n",
              "      <td>MZ</td>\n",
              "      <td>0x0090</td>\n",
              "      <td>0x0003</td>\n",
              "      <td>0x0000</td>\n",
              "      <td>...</td>\n",
              "      <td>36.0</td>\n",
              "      <td>0.0</td>\n",
              "      <td>0.0</td>\n",
              "      <td>0.0</td>\n",
              "      <td>0.0</td>\n",
              "      <td>1.0</td>\n",
              "      <td>1.0</td>\n",
              "      <td>Benign</td>\n",
              "      <td>Benign</td>\n",
              "      <td>Benign</td>\n",
              "    </tr>\n",
              "  </tbody>\n",
              "</table>\n",
              "<p>5 rows × 77 columns</p>\n",
              "</div>\n",
              "    <div class=\"colab-df-buttons\">\n",
              "\n",
              "  <div class=\"colab-df-container\">\n",
              "    <button class=\"colab-df-convert\" onclick=\"convertToInteractive('df-a8716a35-ee80-444b-9612-8e946e6d5d8b')\"\n",
              "            title=\"Convert this dataframe to an interactive table.\"\n",
              "            style=\"display:none;\">\n",
              "\n",
              "  <svg xmlns=\"http://www.w3.org/2000/svg\" height=\"24px\" viewBox=\"0 -960 960 960\">\n",
              "    <path d=\"M120-120v-720h720v720H120Zm60-500h600v-160H180v160Zm220 220h160v-160H400v160Zm0 220h160v-160H400v160ZM180-400h160v-160H180v160Zm440 0h160v-160H620v160ZM180-180h160v-160H180v160Zm440 0h160v-160H620v160Z\"/>\n",
              "  </svg>\n",
              "    </button>\n",
              "\n",
              "  <style>\n",
              "    .colab-df-container {\n",
              "      display:flex;\n",
              "      gap: 12px;\n",
              "    }\n",
              "\n",
              "    .colab-df-convert {\n",
              "      background-color: #E8F0FE;\n",
              "      border: none;\n",
              "      border-radius: 50%;\n",
              "      cursor: pointer;\n",
              "      display: none;\n",
              "      fill: #1967D2;\n",
              "      height: 32px;\n",
              "      padding: 0 0 0 0;\n",
              "      width: 32px;\n",
              "    }\n",
              "\n",
              "    .colab-df-convert:hover {\n",
              "      background-color: #E2EBFA;\n",
              "      box-shadow: 0px 1px 2px rgba(60, 64, 67, 0.3), 0px 1px 3px 1px rgba(60, 64, 67, 0.15);\n",
              "      fill: #174EA6;\n",
              "    }\n",
              "\n",
              "    .colab-df-buttons div {\n",
              "      margin-bottom: 4px;\n",
              "    }\n",
              "\n",
              "    [theme=dark] .colab-df-convert {\n",
              "      background-color: #3B4455;\n",
              "      fill: #D2E3FC;\n",
              "    }\n",
              "\n",
              "    [theme=dark] .colab-df-convert:hover {\n",
              "      background-color: #434B5C;\n",
              "      box-shadow: 0px 1px 3px 1px rgba(0, 0, 0, 0.15);\n",
              "      filter: drop-shadow(0px 1px 2px rgba(0, 0, 0, 0.3));\n",
              "      fill: #FFFFFF;\n",
              "    }\n",
              "  </style>\n",
              "\n",
              "    <script>\n",
              "      const buttonEl =\n",
              "        document.querySelector('#df-a8716a35-ee80-444b-9612-8e946e6d5d8b button.colab-df-convert');\n",
              "      buttonEl.style.display =\n",
              "        google.colab.kernel.accessAllowed ? 'block' : 'none';\n",
              "\n",
              "      async function convertToInteractive(key) {\n",
              "        const element = document.querySelector('#df-a8716a35-ee80-444b-9612-8e946e6d5d8b');\n",
              "        const dataTable =\n",
              "          await google.colab.kernel.invokeFunction('convertToInteractive',\n",
              "                                                    [key], {});\n",
              "        if (!dataTable) return;\n",
              "\n",
              "        const docLinkHtml = 'Like what you see? Visit the ' +\n",
              "          '<a target=\"_blank\" href=https://colab.research.google.com/notebooks/data_table.ipynb>data table notebook</a>'\n",
              "          + ' to learn more about interactive tables.';\n",
              "        element.innerHTML = '';\n",
              "        dataTable['output_type'] = 'display_data';\n",
              "        await google.colab.output.renderOutput(dataTable, element);\n",
              "        const docLink = document.createElement('div');\n",
              "        docLink.innerHTML = docLinkHtml;\n",
              "        element.appendChild(docLink);\n",
              "      }\n",
              "    </script>\n",
              "  </div>\n",
              "\n",
              "\n",
              "    <div id=\"df-8d01d71b-44da-40ce-8b11-3cb23de88393\">\n",
              "      <button class=\"colab-df-quickchart\" onclick=\"quickchart('df-8d01d71b-44da-40ce-8b11-3cb23de88393')\"\n",
              "                title=\"Suggest charts\"\n",
              "                style=\"display:none;\">\n",
              "\n",
              "<svg xmlns=\"http://www.w3.org/2000/svg\" height=\"24px\"viewBox=\"0 0 24 24\"\n",
              "     width=\"24px\">\n",
              "    <g>\n",
              "        <path d=\"M19 3H5c-1.1 0-2 .9-2 2v14c0 1.1.9 2 2 2h14c1.1 0 2-.9 2-2V5c0-1.1-.9-2-2-2zM9 17H7v-7h2v7zm4 0h-2V7h2v10zm4 0h-2v-4h2v4z\"/>\n",
              "    </g>\n",
              "</svg>\n",
              "      </button>\n",
              "\n",
              "<style>\n",
              "  .colab-df-quickchart {\n",
              "      --bg-color: #E8F0FE;\n",
              "      --fill-color: #1967D2;\n",
              "      --hover-bg-color: #E2EBFA;\n",
              "      --hover-fill-color: #174EA6;\n",
              "      --disabled-fill-color: #AAA;\n",
              "      --disabled-bg-color: #DDD;\n",
              "  }\n",
              "\n",
              "  [theme=dark] .colab-df-quickchart {\n",
              "      --bg-color: #3B4455;\n",
              "      --fill-color: #D2E3FC;\n",
              "      --hover-bg-color: #434B5C;\n",
              "      --hover-fill-color: #FFFFFF;\n",
              "      --disabled-bg-color: #3B4455;\n",
              "      --disabled-fill-color: #666;\n",
              "  }\n",
              "\n",
              "  .colab-df-quickchart {\n",
              "    background-color: var(--bg-color);\n",
              "    border: none;\n",
              "    border-radius: 50%;\n",
              "    cursor: pointer;\n",
              "    display: none;\n",
              "    fill: var(--fill-color);\n",
              "    height: 32px;\n",
              "    padding: 0;\n",
              "    width: 32px;\n",
              "  }\n",
              "\n",
              "  .colab-df-quickchart:hover {\n",
              "    background-color: var(--hover-bg-color);\n",
              "    box-shadow: 0 1px 2px rgba(60, 64, 67, 0.3), 0 1px 3px 1px rgba(60, 64, 67, 0.15);\n",
              "    fill: var(--button-hover-fill-color);\n",
              "  }\n",
              "\n",
              "  .colab-df-quickchart-complete:disabled,\n",
              "  .colab-df-quickchart-complete:disabled:hover {\n",
              "    background-color: var(--disabled-bg-color);\n",
              "    fill: var(--disabled-fill-color);\n",
              "    box-shadow: none;\n",
              "  }\n",
              "\n",
              "  .colab-df-spinner {\n",
              "    border: 2px solid var(--fill-color);\n",
              "    border-color: transparent;\n",
              "    border-bottom-color: var(--fill-color);\n",
              "    animation:\n",
              "      spin 1s steps(1) infinite;\n",
              "  }\n",
              "\n",
              "  @keyframes spin {\n",
              "    0% {\n",
              "      border-color: transparent;\n",
              "      border-bottom-color: var(--fill-color);\n",
              "      border-left-color: var(--fill-color);\n",
              "    }\n",
              "    20% {\n",
              "      border-color: transparent;\n",
              "      border-left-color: var(--fill-color);\n",
              "      border-top-color: var(--fill-color);\n",
              "    }\n",
              "    30% {\n",
              "      border-color: transparent;\n",
              "      border-left-color: var(--fill-color);\n",
              "      border-top-color: var(--fill-color);\n",
              "      border-right-color: var(--fill-color);\n",
              "    }\n",
              "    40% {\n",
              "      border-color: transparent;\n",
              "      border-right-color: var(--fill-color);\n",
              "      border-top-color: var(--fill-color);\n",
              "    }\n",
              "    60% {\n",
              "      border-color: transparent;\n",
              "      border-right-color: var(--fill-color);\n",
              "    }\n",
              "    80% {\n",
              "      border-color: transparent;\n",
              "      border-right-color: var(--fill-color);\n",
              "      border-bottom-color: var(--fill-color);\n",
              "    }\n",
              "    90% {\n",
              "      border-color: transparent;\n",
              "      border-bottom-color: var(--fill-color);\n",
              "    }\n",
              "  }\n",
              "</style>\n",
              "\n",
              "      <script>\n",
              "        async function quickchart(key) {\n",
              "          const quickchartButtonEl =\n",
              "            document.querySelector('#' + key + ' button');\n",
              "          quickchartButtonEl.disabled = true;  // To prevent multiple clicks.\n",
              "          quickchartButtonEl.classList.add('colab-df-spinner');\n",
              "          try {\n",
              "            const charts = await google.colab.kernel.invokeFunction(\n",
              "                'suggestCharts', [key], {});\n",
              "          } catch (error) {\n",
              "            console.error('Error during call to suggestCharts:', error);\n",
              "          }\n",
              "          quickchartButtonEl.classList.remove('colab-df-spinner');\n",
              "          quickchartButtonEl.classList.add('colab-df-quickchart-complete');\n",
              "        }\n",
              "        (() => {\n",
              "          let quickchartButtonEl =\n",
              "            document.querySelector('#df-8d01d71b-44da-40ce-8b11-3cb23de88393 button');\n",
              "          quickchartButtonEl.style.display =\n",
              "            google.colab.kernel.accessAllowed ? 'block' : 'none';\n",
              "        })();\n",
              "      </script>\n",
              "    </div>\n",
              "\n",
              "    </div>\n",
              "  </div>\n"
            ],
            "application/vnd.google.colaboratory.intrinsic+json": {
              "type": "dataframe",
              "variable_name": "df"
            }
          },
          "metadata": {},
          "execution_count": 8
        }
      ]
    },
    {
      "cell_type": "code",
      "source": [
        "df.head()\n",
        "\n",
        "df['Class'].value_counts()\n",
        "\n",
        "\n",
        "df['Category'].value_counts()\n",
        "\n",
        "\n",
        "df['Family'].value_counts()"
      ],
      "metadata": {
        "colab": {
          "base_uri": "https://localhost:8080/",
          "height": 962
        },
        "id": "j-qpR0r8XdVD",
        "outputId": "bff633bf-f6e6-49da-cc98-a29387c36905"
      },
      "execution_count": null,
      "outputs": [
        {
          "output_type": "execute_result",
          "data": {
            "text/plain": [
              "Family\n",
              "Benign        10876\n",
              "Phobos          550\n",
              "Snake           527\n",
              "NanoCore        520\n",
              "Raccoon         518\n",
              "Remcos          512\n",
              "njRat           506\n",
              "Dharma          505\n",
              "Shade           504\n",
              "RedLine         500\n",
              "WannaCry        497\n",
              "Formbook        473\n",
              "Gh0st           454\n",
              "Ryuk            449\n",
              "Guloader        444\n",
              "LockBit         438\n",
              "Gandcrab        382\n",
              "REvil           347\n",
              "Glupteba        346\n",
              "Emotet          346\n",
              "Agenttesla      337\n",
              "DarkSide        335\n",
              "Cerber          332\n",
              "Qbot            322\n",
              "Ursnif          309\n",
              "Maze            290\n",
              "Ragnar          133\n",
              "Name: count, dtype: int64"
            ],
            "text/html": [
              "<div>\n",
              "<style scoped>\n",
              "    .dataframe tbody tr th:only-of-type {\n",
              "        vertical-align: middle;\n",
              "    }\n",
              "\n",
              "    .dataframe tbody tr th {\n",
              "        vertical-align: top;\n",
              "    }\n",
              "\n",
              "    .dataframe thead th {\n",
              "        text-align: right;\n",
              "    }\n",
              "</style>\n",
              "<table border=\"1\" class=\"dataframe\">\n",
              "  <thead>\n",
              "    <tr style=\"text-align: right;\">\n",
              "      <th></th>\n",
              "      <th>count</th>\n",
              "    </tr>\n",
              "    <tr>\n",
              "      <th>Family</th>\n",
              "      <th></th>\n",
              "    </tr>\n",
              "  </thead>\n",
              "  <tbody>\n",
              "    <tr>\n",
              "      <th>Benign</th>\n",
              "      <td>10876</td>\n",
              "    </tr>\n",
              "    <tr>\n",
              "      <th>Phobos</th>\n",
              "      <td>550</td>\n",
              "    </tr>\n",
              "    <tr>\n",
              "      <th>Snake</th>\n",
              "      <td>527</td>\n",
              "    </tr>\n",
              "    <tr>\n",
              "      <th>NanoCore</th>\n",
              "      <td>520</td>\n",
              "    </tr>\n",
              "    <tr>\n",
              "      <th>Raccoon</th>\n",
              "      <td>518</td>\n",
              "    </tr>\n",
              "    <tr>\n",
              "      <th>Remcos</th>\n",
              "      <td>512</td>\n",
              "    </tr>\n",
              "    <tr>\n",
              "      <th>njRat</th>\n",
              "      <td>506</td>\n",
              "    </tr>\n",
              "    <tr>\n",
              "      <th>Dharma</th>\n",
              "      <td>505</td>\n",
              "    </tr>\n",
              "    <tr>\n",
              "      <th>Shade</th>\n",
              "      <td>504</td>\n",
              "    </tr>\n",
              "    <tr>\n",
              "      <th>RedLine</th>\n",
              "      <td>500</td>\n",
              "    </tr>\n",
              "    <tr>\n",
              "      <th>WannaCry</th>\n",
              "      <td>497</td>\n",
              "    </tr>\n",
              "    <tr>\n",
              "      <th>Formbook</th>\n",
              "      <td>473</td>\n",
              "    </tr>\n",
              "    <tr>\n",
              "      <th>Gh0st</th>\n",
              "      <td>454</td>\n",
              "    </tr>\n",
              "    <tr>\n",
              "      <th>Ryuk</th>\n",
              "      <td>449</td>\n",
              "    </tr>\n",
              "    <tr>\n",
              "      <th>Guloader</th>\n",
              "      <td>444</td>\n",
              "    </tr>\n",
              "    <tr>\n",
              "      <th>LockBit</th>\n",
              "      <td>438</td>\n",
              "    </tr>\n",
              "    <tr>\n",
              "      <th>Gandcrab</th>\n",
              "      <td>382</td>\n",
              "    </tr>\n",
              "    <tr>\n",
              "      <th>REvil</th>\n",
              "      <td>347</td>\n",
              "    </tr>\n",
              "    <tr>\n",
              "      <th>Glupteba</th>\n",
              "      <td>346</td>\n",
              "    </tr>\n",
              "    <tr>\n",
              "      <th>Emotet</th>\n",
              "      <td>346</td>\n",
              "    </tr>\n",
              "    <tr>\n",
              "      <th>Agenttesla</th>\n",
              "      <td>337</td>\n",
              "    </tr>\n",
              "    <tr>\n",
              "      <th>DarkSide</th>\n",
              "      <td>335</td>\n",
              "    </tr>\n",
              "    <tr>\n",
              "      <th>Cerber</th>\n",
              "      <td>332</td>\n",
              "    </tr>\n",
              "    <tr>\n",
              "      <th>Qbot</th>\n",
              "      <td>322</td>\n",
              "    </tr>\n",
              "    <tr>\n",
              "      <th>Ursnif</th>\n",
              "      <td>309</td>\n",
              "    </tr>\n",
              "    <tr>\n",
              "      <th>Maze</th>\n",
              "      <td>290</td>\n",
              "    </tr>\n",
              "    <tr>\n",
              "      <th>Ragnar</th>\n",
              "      <td>133</td>\n",
              "    </tr>\n",
              "  </tbody>\n",
              "</table>\n",
              "</div><br><label><b>dtype:</b> int64</label>"
            ]
          },
          "metadata": {},
          "execution_count": 13
        }
      ]
    },
    {
      "cell_type": "code",
      "source": [
        "drop_cols = ['md5', 'sha1', 'file_extension']"
      ],
      "metadata": {
        "id": "3rN9qMpQYHL0"
      },
      "execution_count": null,
      "outputs": []
    },
    {
      "cell_type": "code",
      "source": [
        "df1 = df.drop(columns=drop_cols + ['Category', 'Family'])\n",
        "df1 = df1.select_dtypes(include=['int64', 'float64']).join(df['Class'])"
      ],
      "metadata": {
        "id": "5kou6wD3YIzj"
      },
      "execution_count": null,
      "outputs": []
    },
    {
      "cell_type": "code",
      "source": [
        "df2 = df.drop(columns=drop_cols + ['Class', 'Family'])\n",
        "df2 = df2.select_dtypes(include=['int64', 'float64']).join(df['Category'])"
      ],
      "metadata": {
        "id": "4QaSRAmgYMJb"
      },
      "execution_count": null,
      "outputs": []
    },
    {
      "cell_type": "code",
      "source": [
        "df3 = df.drop(columns=drop_cols + ['Class', 'Category'])\n",
        "df3 = df3.select_dtypes(include=['int64', 'float64']).join(df['Family'])"
      ],
      "metadata": {
        "id": "I3ftz_awYQDj"
      },
      "execution_count": null,
      "outputs": []
    },
    {
      "cell_type": "code",
      "source": [
        "print(\"df1, df2, df3 created successfully:\")\n",
        "print(\"df1 shape (Class):\", df1.shape)\n",
        "print(\"df2 shape (Category):\", df2.shape)\n",
        "print(\"df3 shape (Family):\", df3.shape)"
      ],
      "metadata": {
        "colab": {
          "base_uri": "https://localhost:8080/"
        },
        "id": "qFp-YryiYRxc",
        "outputId": "15f11362-d21b-4d9f-de33-444f2484e3a3"
      },
      "execution_count": null,
      "outputs": [
        {
          "output_type": "stream",
          "name": "stdout",
          "text": [
            "df1, df2, df3 created successfully:\n",
            "df1 shape (Class): (21752, 19)\n",
            "df2 shape (Category): (21752, 19)\n",
            "df3 shape (Family): (21752, 19)\n"
          ]
        }
      ]
    },
    {
      "cell_type": "code",
      "source": [
        "import matplotlib.pyplot as plt\n",
        "from sklearn.model_selection import train_test_split\n",
        "from sklearn.preprocessing import LabelEncoder, StandardScaler\n",
        "from sklearn.metrics import accuracy_score, precision_score, recall_score, f1_score, confusion_matrix, roc_curve, auc\n",
        "from sklearn.tree import DecisionTreeClassifier\n",
        "from sklearn.neighbors import KNeighborsClassifier\n",
        "from sklearn.ensemble import RandomForestClassifier"
      ],
      "metadata": {
        "id": "044QrHqjYYGc"
      },
      "execution_count": null,
      "outputs": []
    },
    {
      "cell_type": "code",
      "source": [
        "X = df1.drop(columns=['Class'])\n",
        "y = df1['Class']"
      ],
      "metadata": {
        "id": "o5_4g-VQYbbb"
      },
      "execution_count": null,
      "outputs": []
    },
    {
      "cell_type": "code",
      "source": [
        "le = LabelEncoder()\n",
        "y_encoded = le.fit_transform(y)"
      ],
      "metadata": {
        "id": "kDwc2Cz9Yeyz"
      },
      "execution_count": null,
      "outputs": []
    },
    {
      "cell_type": "code",
      "source": [
        "X_train, X_test, y_train, y_test = train_test_split(\n",
        "    X, y_encoded, test_size=0.2, random_state=42, stratify=y_encoded\n",
        ")\n",
        "\n",
        "scaler = StandardScaler()\n",
        "X_train_scaled = scaler.fit_transform(X_train)\n",
        "X_test_scaled = scaler.transform(X_test)"
      ],
      "metadata": {
        "id": "094vCKXwYh2L"
      },
      "execution_count": null,
      "outputs": []
    },
    {
      "cell_type": "code",
      "source": [
        "models = {\n",
        "    'Decision Tree': DecisionTreeClassifier(random_state=42),\n",
        "    'KNN': KNeighborsClassifier(n_neighbors=5),\n",
        "    'Random Forest': RandomForestClassifier(n_estimators=100, random_state=42)\n",
        "}"
      ],
      "metadata": {
        "id": "2nE-pzSKYlnL"
      },
      "execution_count": null,
      "outputs": []
    },
    {
      "cell_type": "code",
      "source": [
        "plt.figure(figsize=(10, 6))\n",
        "for name, model in models.items():\n",
        "    model.fit(X_train_scaled, y_train)\n",
        "    y_pred = model.predict(X_test_scaled)\n",
        "    y_prob = model.predict_proba(X_test_scaled)[:, 1]\n",
        "\n",
        "    print(f\"\\n {name} Metrics:\")\n",
        "    print(\"Accuracy :\", accuracy_score(y_test, y_pred))\n",
        "    print(\"Precision:\", precision_score(y_test, y_pred))\n",
        "    print(\"Recall   :\", recall_score(y_test, y_pred))\n",
        "    print(\"F1 Score :\", f1_score(y_test, y_pred))\n",
        "    print(\"Confusion Matrix:\\n\", confusion_matrix(y_test, y_pred))\n",
        "\n",
        "        # ROC curve\n",
        "    fpr, tpr, _ = roc_curve(y_test, y_prob)\n",
        "    roc_auc = auc(fpr, tpr)\n",
        "    plt.plot(fpr, tpr, label=f'{name} (AUC = {roc_auc:.2f})')"
      ],
      "metadata": {
        "colab": {
          "base_uri": "https://localhost:8080/",
          "height": 991
        },
        "id": "z7TuMrkBYtgM",
        "outputId": "c99262e2-f6c3-4ae5-d360-9fb13621ce73"
      },
      "execution_count": null,
      "outputs": [
        {
          "output_type": "stream",
          "name": "stdout",
          "text": [
            "\n",
            " Decision Tree Metrics:\n",
            "Accuracy : 0.9903470466559412\n",
            "Precision: 0.9889958734525447\n",
            "Recall   : 0.9917241379310345\n",
            "F1 Score : 0.990358126721763\n",
            "Confusion Matrix:\n",
            " [[2152   24]\n",
            " [  18 2157]]\n",
            "\n",
            " KNN Metrics:\n",
            "Accuracy : 0.9556423810618249\n",
            "Precision: 0.959221501390176\n",
            "Recall   : 0.9517241379310345\n",
            "F1 Score : 0.955458112162474\n",
            "Confusion Matrix:\n",
            " [[2088   88]\n",
            " [ 105 2070]]\n",
            "\n",
            " Random Forest Metrics:\n",
            "Accuracy : 0.9931050333256722\n",
            "Precision: 0.9890560875512996\n",
            "Recall   : 0.9972413793103448\n",
            "F1 Score : 0.9931318681318682\n",
            "Confusion Matrix:\n",
            " [[2152   24]\n",
            " [   6 2169]]\n"
          ]
        },
        {
          "output_type": "display_data",
          "data": {
            "text/plain": [
              "<Figure size 1000x600 with 1 Axes>"
            ],
            "image/png": "[encoded data removed]"
          },
          "metadata": {}
        }
      ]
    },
    {
      "cell_type": "code",
      "source": [
        "plt.plot([0, 1], [0, 1], 'k--')\n",
        "plt.xlabel('False Positive Rate')\n",
        "plt.ylabel('True Positive Rate')\n",
        "plt.title('ROC Curve - Class (Benign vs Malware)')\n",
        "plt.legend()\n",
        "plt.grid(True)\n",
        "plt.tight_layout()\n",
        "plt.show()"
      ],
      "metadata": {
        "colab": {
          "base_uri": "https://localhost:8080/",
          "height": 542
        },
        "id": "d0xkOFK1aW_M",
        "outputId": "8d993ae5-af31-445b-ddf1-07f54e96deca"
      },
      "execution_count": null,
      "outputs": [
        {
          "output_type": "stream",
          "name": "stderr",
          "text": [
            "/tmp/ipython-input-33-1921215464.py:5: UserWarning: No artists with labels found to put in legend.  Note that artists whose label start with an underscore are ignored when legend() is called with no argument.\n",
            "  plt.legend()\n"
          ]
        },
        {
          "output_type": "display_data",
          "data": {
            "text/plain": [
              "<Figure size 640x480 with 1 Axes>"
            ],
            "image/png": "[encoded data removed]"
          },
          "metadata": {}
        }
      ]
    },
    {
      "cell_type": "code",
      "source": [
        "\n",
        "from sklearn.metrics import roc_auc_score\n",
        "from sklearn.preprocessing import label_binarize"
      ],
      "metadata": {
        "id": "mzKds2SwaeSb"
      },
      "execution_count": null,
      "outputs": []
    },
    {
      "cell_type": "code",
      "source": [
        "X = df2.drop(columns=['Category'])\n",
        "y = df2['Category']"
      ],
      "metadata": {
        "id": "RltnaHvyaggj"
      },
      "execution_count": null,
      "outputs": []
    },
    {
      "cell_type": "code",
      "source": [
        "le = LabelEncoder()\n",
        "y_encoded = le.fit_transform(y)\n",
        "class_names = le.classes_"
      ],
      "metadata": {
        "id": "n62g5rp6ajJT"
      },
      "execution_count": null,
      "outputs": []
    },
    {
      "cell_type": "code",
      "source": [
        "y_binarized = label_binarize(y_encoded, classes=range(len(class_names)))"
      ],
      "metadata": {
        "id": "k74-GdEFalp8"
      },
      "execution_count": null,
      "outputs": []
    },
    {
      "cell_type": "code",
      "source": [
        "X_train, X_test, y_train, y_test = train_test_split(\n",
        "    X, y_encoded, test_size=0.2, random_state=42, stratify=y_encoded\n",
        ")\n",
        "scaler = StandardScaler()\n",
        "X_train_scaled = scaler.fit_transform(X_train)\n",
        "X_test_scaled = scaler.transform(X_test)"
      ],
      "metadata": {
        "id": "GNnk-72Qao8s"
      },
      "execution_count": null,
      "outputs": []
    },
    {
      "cell_type": "code",
      "source": [
        "models = {\n",
        "    'Decision Tree': DecisionTreeClassifier(random_state=42),\n",
        "    'KNN': KNeighborsClassifier(n_neighbors=5),\n",
        "    'Random Forest': RandomForestClassifier(n_estimators=100, random_state=42)\n",
        "}"
      ],
      "metadata": {
        "id": "jlw3eDAYasGr"
      },
      "execution_count": null,
      "outputs": []
    },
    {
      "cell_type": "code",
      "source": [
        "plt.figure(figsize=(10, 6))\n",
        "\n",
        "for name, model in models.items():\n",
        "    model.fit(X_train_scaled, y_train)\n",
        "    y_pred = model.predict(X_test_scaled)\n",
        "    y_prob = model.predict_proba(X_test_scaled)\n",
        "\n",
        "    print(f\"\\n {name} Metrics:\")\n",
        "    print(\"Accuracy :\", accuracy_score(y_test, y_pred))\n",
        "    print(\"Precision (macro):\", precision_score(y_test, y_pred, average='macro'))\n",
        "    print(\"Recall (macro)   :\", recall_score(y_test, y_pred, average='macro'))\n",
        "    print(\"F1 Score (macro) :\", f1_score(y_test, y_pred, average='macro'))\n",
        "    print(\"Confusion Matrix:\\n\", confusion_matrix(y_test, y_pred))\n",
        "\n",
        "    # ROC AUC (macro-average)\n",
        "    y_test_bin = label_binarize(y_test, classes=range(len(class_names)))\n",
        "    auc_score = roc_auc_score(y_test_bin, y_prob, average=\"macro\", multi_class=\"ovr\")\n",
        "\n",
        "    # ROC curve (plot only first 3 classes to avoid clutter)\n",
        "    for i in range(min(3, len(class_names))):\n",
        "        fpr, tpr, _ = roc_curve(y_test_bin[:, i], y_prob[:, i])\n",
        "        plt.plot(fpr, tpr, label=f'{name} - {class_names[i]} (AUC={auc(fpr, tpr):.2f})')\n",
        "        plt.plot([0, 1], [0, 1], 'k--')\n",
        "plt.xlabel('False Positive Rate')\n",
        "plt.ylabel('True Positive Rate')\n",
        "plt.title('ROC Curve - Category (Multiclass)')\n",
        "plt.legend()\n",
        "plt.grid(True)\n",
        "plt.tight_layout()\n",
        "plt.show()"
      ],
      "metadata": {
        "colab": {
          "base_uri": "https://localhost:8080/",
          "height": 1000
        },
        "id": "hh8_h0hfavoj",
        "outputId": "7aea07d8-c46a-47c5-c462-a77716f51a8d"
      },
      "execution_count": null,
      "outputs": [
        {
          "output_type": "stream",
          "name": "stdout",
          "text": [
            "\n",
            " Decision Tree Metrics:\n",
            "Accuracy : 0.9450700988278556\n",
            "Precision (macro): 0.902261550570483\n",
            "Recall (macro)   : 0.90586883854094\n",
            "F1 Score (macro) : 0.9040116004550691\n",
            "Confusion Matrix:\n",
            " [[2151   10    7    4    3]\n",
            " [   4  449   17   43   16]\n",
            " [   8   26  909    3    7]\n",
            " [   0   39    4  351   10]\n",
            " [   2   19    6   11  252]]\n",
            "\n",
            " KNN Metrics:\n",
            "Accuracy : 0.9000229832222477\n",
            "Precision (macro): 0.8591343271622636\n",
            "Recall (macro)   : 0.8374010237289159\n",
            "F1 Score (macro) : 0.8476896004410316\n",
            "Confusion Matrix:\n",
            " [[2103   38   21    5    8]\n",
            " [  51  398   27   36   17]\n",
            " [  31   34  871    4   13]\n",
            " [  21   33   10  331    9]\n",
            " [  31   23   11   12  213]]\n",
            "\n",
            " Random Forest Metrics:\n",
            "Accuracy : 0.9717306366352563\n",
            "Precision (macro): 0.9540344749718619\n",
            "Recall (macro)   : 0.9508049803821216\n",
            "F1 Score (macro) : 0.9521426107300768\n",
            "Confusion Matrix:\n",
            " [[2155   11    3    5    1]\n",
            " [   5  501    9   10    4]\n",
            " [   3   10  934    1    5]\n",
            " [   0   20    6  374    4]\n",
            " [   1   18    5    2  264]]\n"
          ]
        },
        {
          "output_type": "display_data",
          "data": {
            "text/plain": [
              "<Figure size 1000x600 with 1 Axes>"
            ],
            "image/png": "[encoded data removed]"
          },
          "metadata": {}
        }
      ]
    },
    {
      "cell_type": "code",
      "source": [
        "from sklearn.metrics import classification_report"
      ],
      "metadata": {
        "id": "Kn2u2IntbGuz"
      },
      "execution_count": null,
      "outputs": []
    },
    {
      "cell_type": "code",
      "source": [
        "X = df3.drop(columns=['Family'])\n",
        "y = df3['Family']"
      ],
      "metadata": {
        "id": "oW1BsCpBbMQr"
      },
      "execution_count": null,
      "outputs": []
    },
    {
      "cell_type": "code",
      "source": [
        "le = LabelEncoder()\n",
        "y_encoded = le.fit_transform(y)\n",
        "class_names = le.classes_"
      ],
      "metadata": {
        "id": "cOvrM7aabPMT"
      },
      "execution_count": null,
      "outputs": []
    },
    {
      "cell_type": "code",
      "source": [
        "y_binarized = label_binarize(y_encoded, classes=range(len(class_names)))"
      ],
      "metadata": {
        "id": "LpQWRt15bRk0"
      },
      "execution_count": null,
      "outputs": []
    },
    {
      "cell_type": "code",
      "source": [
        "X_train, X_test, y_train, y_test = train_test_split(\n",
        "    X, y_encoded, test_size=0.2, random_state=42, stratify=y_encoded\n",
        ")\n",
        "scaler = StandardScaler()\n",
        "X_train_scaled = scaler.fit_transform(X_train)\n",
        "X_test_scaled = scaler.transform(X_test)"
      ],
      "metadata": {
        "id": "eWIzZ_IIbULj"
      },
      "execution_count": null,
      "outputs": []
    },
    {
      "cell_type": "code",
      "source": [
        "models = {\n",
        "    'Decision Tree': DecisionTreeClassifier(random_state=42),\n",
        "    'KNN': KNeighborsClassifier(n_neighbors=5),\n",
        "    'Random Forest': RandomForestClassifier(n_estimators=100, random_state=42)\n",
        "}"
      ],
      "metadata": {
        "id": "HJNFW31FbYsj"
      },
      "execution_count": null,
      "outputs": []
    },
    {
      "cell_type": "code",
      "source": [
        "plt.figure(figsize=(12, 7))\n",
        "\n",
        "for name, model in models.items():\n",
        "    model.fit(X_train_scaled, y_train)\n",
        "    y_pred = model.predict(X_test_scaled)\n",
        "    y_prob = model.predict_proba(X_test_scaled)\n",
        "\n",
        "    print(f\"\\n {name} Metrics:\")\n",
        "    print(\"Accuracy :\", accuracy_score(y_test, y_pred))\n",
        "    print(\"Precision (macro):\", precision_score(y_test, y_pred, average='macro'))\n",
        "    print(\"Recall (macro)   :\", recall_score(y_test, y_pred, average='macro'))\n",
        "    print(\"F1 Score (macro) :\", f1_score(y_test, y_pred, average='macro'))\n",
        "    print(\"Confusion Matrix:\\n\", confusion_matrix(y_test, y_pred))\n",
        "    print(\"\\nClassification Report (Top 5 Classes):\\n\", classification_report(\n",
        "        y_test, y_pred, target_names=class_names, zero_division=0\n",
        "    )[:800])  # Print shortened version\n",
        "\n",
        "    # ROC for first 3 classes\n",
        "    y_test_bin = label_binarize(y_test, classes=range(len(class_names)))\n",
        "    for i in range(min(3, len(class_names))):\n",
        "        fpr, tpr, _ = roc_curve(y_test_bin[:, i], y_prob[:, i])\n",
        "        plt.plot(fpr, tpr, label=f'{name} - {class_names[i]} (AUC={auc(fpr, tpr):.2f})')"
      ],
      "metadata": {
        "colab": {
          "base_uri": "https://localhost:8080/",
          "height": 1000
        },
        "id": "FeQT3wWybbIc",
        "outputId": "2ba27764-5eb9-4092-9804-bdf3e7cf5323"
      },
      "execution_count": null,
      "outputs": [
        {
          "output_type": "stream",
          "name": "stdout",
          "text": [
            "\n",
            " Decision Tree Metrics:\n",
            "Accuracy : 0.9174902321305447\n",
            "Precision (macro): 0.8493565765352235\n",
            "Recall (macro)   : 0.8583556237468905\n",
            "F1 Score (macro) : 0.8531060963251093\n",
            "Confusion Matrix:\n",
            " [[  62    0    0    0    0    0    1    0    0    0    0    0    0    1\n",
            "     0    0    0    0    0    1    0    0    0    2    0    0    0]\n",
            " [   0 2145    1    1    0    0    0    3    4    1    2    0    0    3\n",
            "     1    0    2    2    2    3    0    1    0    0    3    0    2]\n",
            " [   0    0   58    0    0    0    1    0    0    0    1    0    0    0\n",
            "     0    0    0    0    0    0    2    1    1    0    2    0    0]\n",
            " [   0    1    0   60    0    0    0    0    0    0    0    1    0    1\n",
            "     0    0    2    0    0    0    0    0    0    0    1    0    1]\n",
            " [   0    0    0    0   96    0    0    0    0    0    0    0    0    0\n",
            "     1    0    1    0    0    0    0    1    2    0    0    0    0]\n",
            " [   2    0    0    0    0   57    0    0    2    0    0    0    0    0\n",
            "     0    0    0    0    0    2    2    0    1    1    1    0    1]\n",
            " [   3    0    0    0    0    0   88    0    0    0    0    0    0    0\n",
            "     0    1    0    0    0    1    2    0    0    0    0    0    0]\n",
            " [   0    0    0    0    0    0    0   72    2    0    0    0    1    0\n",
            "     0    0    0    0    0    0    1    0    0    0    0    0    0]\n",
            " [   0    1    0    1    0    4    0    0   71    2    1    0    0    2\n",
            "     0    1    0    2    0    3    1    0    1    0    0    0    1]\n",
            " [   0    0    0    1    1    2    0    1    1   58    0    0    0    0\n",
            "     0    0    0    0    0    3    0    0    0    0    2    0    0]\n",
            " [   0    0    0    0    0    1    2    0    0    0   71    0    0    2\n",
            "     0    0    0    1    0    0    3    1    2    0    4    0    2]\n",
            " [   0    0    2    1    1    0    0    0    0    0    0   80    2    0\n",
            "     0    0    0    0    0    0    0    0    0    0    0    2    0]\n",
            " [   0    0    0    0    0    0    0    2    0    0    0    0   53    0\n",
            "     0    0    0    0    1    0    1    1    0    0    0    0    0]\n",
            " [   0    3    0    0    1    0    1    0    0    2    2    0    0   78\n",
            "     0    0    2    0    0    0    8    0    0    1    1    1    4]\n",
            " [   0    0    0    0    2    0    0    0    0    0    0    1    0    0\n",
            "   104    0    0    0    0    0    0    2    1    0    0    0    0]\n",
            " [   0    1    0    0    0    1    1    0    1    1    1    0    0    0\n",
            "     0   55    0    0    0    0    0    2    0    0    1    0    0]\n",
            " [   0    0    0    1    1    1    0    1    0    0    0    0    0    0\n",
            "     1    0   64    0    0    0    0    0    0    0    0    0    0]\n",
            " [   0    1    1    0    1    0    0    0    3    1    2    0    0    0\n",
            "     0    0    0   87    0    6    0    0    0    0    1    0    1]\n",
            " [   0    0    0    0    0    0    0    0    0    0    0    0    1    0\n",
            "     0    1    0    0   25    0    0    0    0    0    0    0    0]\n",
            " [   0    0    0    0    0    0    0    1    2    1    0    0    0    2\n",
            "     0    1    0    0    1   85    3    0    1    0    0    0    3]\n",
            " [   0    1    0    0    0    1    1    0    3    1    2    0    0    8\n",
            "     0    1    0    3    1    0   70    1    0    2    2    0    5]\n",
            " [   0    0    0    0    0    1    0    0    0    0    0    5    2    2\n",
            "     0    0    0    0    1    0    1   76    1    0    1    0    0]\n",
            " [   0    0    0    0    1    1    0    0    2    0    1    0    0    1\n",
            "     0    1    0    1    0    1    2    3   87    0    0    0    0]\n",
            " [   1    0    0    0    0    0    0    1    0    0    0    0    0    1\n",
            "     0    2    0    0    0    2    3    0    0   95    0    0    1]\n",
            " [   0    1    0    0    0    0    0    3    2    0    0    0    0    1\n",
            "     0    1    0    3    0    1    6    0    0    0   43    0    1]\n",
            " [   0    1    0    0    0    0    0    0    0    0    0    2    0    0\n",
            "     0    0    0    0    0    0    1    6    4    0    0   84    1]\n",
            " [   0    0    1    0    0    1    0    0    2    4    0    0    0    4\n",
            "     0    0    1    1    0    7    6    0    1    1    1    3   68]]\n",
            "\n",
            "Classification Report (Top 5 Classes):\n",
            "               precision    recall  f1-score   support\n",
            "\n",
            "  Agenttesla       0.91      0.93      0.92        67\n",
            "      Benign       1.00      0.99      0.99      2176\n",
            "      Cerber       0.92      0.88      0.90        66\n",
            "    DarkSide       0.92      0.90      0.91        67\n",
            "      Dharma       0.92      0.95      0.94       101\n",
            "      Emotet       0.81      0.83      0.82        69\n",
            "    Formbook       0.93      0.93      0.93        95\n",
            "    Gandcrab       0.86      0.95      0.90        76\n",
            "       Gh0st       0.75      0.78      0.76        91\n",
            "    Glupteba       0.82      0.84      0.83        69\n",
            "    Guloader       0.86      0.80      0.83        89\n",
            "     LockBit       0.90      0.91      0.90        88\n",
            "        Maze       0.90      0.91      0.91        58\n",
            "    NanoCore       0.74      0.75      0.74\n",
            "\n",
            " KNN Metrics:\n",
            "Accuracy : 0.8754309354171455\n",
            "Precision (macro): 0.8170831863593316\n",
            "Recall (macro)   : 0.7874406973993693\n",
            "F1 Score (macro) : 0.7974236056380105\n",
            "Confusion Matrix:\n",
            " [[  63    1    0    0    0    0    1    0    0    0    1    0    0    1\n",
            "     0    0    0    0    0    0    0    0    0    0    0    0    0]\n",
            " [   1 2114    0    1    1    0    4    3    9    2    7    3    0    6\n",
            "     0    4    3    0    0    2    1    1    6    0    1    0    7]\n",
            " [   0    0   63    0    0    0    1    0    1    0    1    0    0    0\n",
            "     0    0    0    0    0    0    0    0    0    0    0    0    0]\n",
            " [   0    3    0   56    0    0    1    0    0    1    0    1    0    2\n",
            "     0    0    0    1    0    1    0    0    0    0    0    0    1]\n",
            " [   0    2    0    0   93    0    0    0    0    0    0    0    0    0\n",
            "     3    0    1    1    0    0    1    0    0    0    0    0    0]\n",
            " [   3    8    0    0    0   46    2    0    2    0    0    0    0    0\n",
            "     0    3    0    2    0    0    0    0    1    0    2    0    0]\n",
            " [   4    3    0    0    0    2   80    0    0    0    0    0    0    3\n",
            "     0    1    0    0    0    0    1    0    0    1    0    0    0]\n",
            " [   0    1    0    2    0    0    0   69    0    0    0    0    3    0\n",
            "     0    0    0    0    0    0    0    0    0    0    1    0    0]\n",
            " [   0   20    1    1    0    1    1    0   56    0    1    0    0    1\n",
            "     0    2    1    0    0    0    1    0    2    1    1    0    1]\n",
            " [   0    2    1    1    0    0    0    0    0   61    2    0    0    0\n",
            "     0    1    0    0    0    0    1    0    0    0    0    0    0]\n",
            " [   0    8    0    0    0    0    0    0    0    0   71    0    0    1\n",
            "     0    0    0    1    0    2    1    1    2    1    0    0    1]\n",
            " [   0    0    0    1    0    0    0    1    0    0    0   81    1    0\n",
            "     0    0    1    0    1    0    0    1    0    0    0    1    0]\n",
            " [   0    0    0    0    0    0    0    1    0    0    0    0   55    0\n",
            "     0    0    0    0    1    0    0    0    0    0    0    1    0]\n",
            " [   1    6    0    0    0    0    3    0    1    2    2    0    0   75\n",
            "     0    0    1    0    0    0    4    0    0    4    0    0    5]\n",
            " [   0    0    0    0    4    0    0    0    0    0    1    0    0    0\n",
            "   103    0    0    0    1    0    0    0    0    0    0    1    0]\n",
            " [   0   17    3    1    0    1    1    0    3    0    0    0    0    0\n",
            "     0   34    1    0    0    0    1    1    0    0    1    0    0]\n",
            " [   0    5    0    0    1    0    0    0    1    0    0    0    0    2\n",
            "     0    1   58    0    0    0    0    0    0    0    0    0    1]\n",
            " [   0    8    0    1    1    2    0    1    1    1    1    0    0    3\n",
            "     0    0    0   79    0    2    1    0    0    0    1    1    1]\n",
            " [   0    1    0    0    1    0    0    1    0    0    0    1    1    0\n",
            "     0    0    0    0   22    0    0    0    0    0    0    0    0]\n",
            " [   1   14    0    0    0    0    0    0    1    0    1    0    0    4\n",
            "     1    0    0    2    0   62    1    1    3    5    1    0    3]\n",
            " [   1    8    0    0    2    0    3    0    2    1    0    0    0   12\n",
            "     0    0    2    0    0    0   64    0    1    4    0    0    2]\n",
            " [   0    2    0    0    0    1    0    1    0    2    1    3    2    0\n",
            "     0    2    0    1    1    0    1   69    1    0    0    3    0]\n",
            " [   0   22    1    0    1    0    0    0    3    0    0    0    0    1\n",
            "     0    3    1    1    0    2    0    0   66    0    0    0    0]\n",
            " [   6    2    0    1    0    0    0    0    0    0    0    0    0    2\n",
            "     0    0    1    0    0    0    4    0    0   87    0    0    3]\n",
            " [   0   15    1    0    1    1    2    1    1    1    1    1    0    1\n",
            "     0    2    3    2    0    2    1    2    1    0   23    0    0]\n",
            " [   0    2    0    0    0    0    0    0    0    0    0    2    1    0\n",
            "     1    0    0    0    0    0    0    2    0    0    0   90    1]\n",
            " [   0    5    1    3    0    0    2    2    1    0    0    0    0    4\n",
            "     1    0    3    3    0    2    3    0    1    1    0    0   69]]\n",
            "\n",
            "Classification Report (Top 5 Classes):\n",
            "               precision    recall  f1-score   support\n",
            "\n",
            "  Agenttesla       0.79      0.94      0.86        67\n",
            "      Benign       0.93      0.97      0.95      2176\n",
            "      Cerber       0.89      0.95      0.92        66\n",
            "    DarkSide       0.82      0.84      0.83        67\n",
            "      Dharma       0.89      0.92      0.90       101\n",
            "      Emotet       0.85      0.67      0.75        69\n",
            "    Formbook       0.79      0.84      0.82        95\n",
            "    Gandcrab       0.86      0.91      0.88        76\n",
            "       Gh0st       0.68      0.62      0.65        91\n",
            "    Glupteba       0.86      0.88      0.87        69\n",
            "    Guloader       0.79      0.80      0.79        89\n",
            "     LockBit       0.88      0.92      0.90        88\n",
            "        Maze       0.87      0.95      0.91        58\n",
            "    NanoCore       0.64      0.72      0.68\n",
            "\n",
            " Random Forest Metrics:\n",
            "Accuracy : 0.9609285221788094\n",
            "Precision (macro): 0.9324701197398881\n",
            "Recall (macro)   : 0.9348353630055809\n",
            "F1 Score (macro) : 0.9333662513623745\n",
            "Confusion Matrix:\n",
            " [[  64    0    0    0    0    0    0    0    0    0    0    0    0    0\n",
            "     0    0    1    0    0    1    0    0    0    1    0    0    0]\n",
            " [   0 2158    0    0    0    0    0    1    2    0    1    1    0    3\n",
            "     0    0    1    0    0    3    1    0    0    0    1    0    4]\n",
            " [   0    1   62    0    0    0    1    0    0    0    0    0    0    0\n",
            "     0    0    0    0    0    0    0    1    1    0    0    0    0]\n",
            " [   0    0    0   65    0    0    0    0    0    0    0    0    0    1\n",
            "     0    0    0    0    0    0    0    0    0    0    0    0    1]\n",
            " [   0    0    0    0   98    0    0    0    0    0    0    0    0    0\n",
            "     2    0    0    0    0    0    0    1    0    0    0    0    0]\n",
            " [   3    0    1    0    0   61    0    0    0    0    0    0    0    0\n",
            "     0    0    0    0    0    0    0    0    1    0    2    0    1]\n",
            " [   1    1    0    0    0    0   90    0    0    0    0    0    0    0\n",
            "     0    0    0    0    0    0    1    0    0    2    0    0    0]\n",
            " [   0    0    0    2    0    0    0   74    0    0    0    0    0    0\n",
            "     0    0    0    0    0    0    0    0    0    0    0    0    0]\n",
            " [   1    1    0    0    0    2    0    0   77    0    1    0    0    1\n",
            "     0    1    0    1    0    1    3    0    0    0    0    0    2]\n",
            " [   0    0    0    0    0    0    0    0    0   67    0    0    0    0\n",
            "     0    0    0    0    0    0    0    0    0    0    1    1    0]\n",
            " [   0    0    0    0    0    0    0    0    0    0   83    0    0    0\n",
            "     0    0    0    1    0    1    0    1    1    0    1    0    1]\n",
            " [   0    0    0    0    0    0    0    0    0    0    0   85    0    0\n",
            "     0    0    0    0    0    0    0    0    0    0    0    3    0]\n",
            " [   0    0    0    0    0    0    0    0    0    0    0    0   58    0\n",
            "     0    0    0    0    0    0    0    0    0    0    0    0    0]\n",
            " [   0    1    0    0    0    0    1    0    0    1    1    0    0   93\n",
            "     0    0    0    0    0    0    3    0    0    0    1    1    2]\n",
            " [   0    0    0    0    1    0    0    0    0    0    0    0    0    0\n",
            "   109    0    0    0    0    0    0    0    0    0    0    0    0]\n",
            " [   0    0    0    0    0    0    1    0    0    0    0    0    0    0\n",
            "     0   60    1    0    0    0    1    0    0    0    1    0    0]\n",
            " [   0    0    0    0    0    0    0    0    0    0    0    0    0    0\n",
            "     0    0   68    0    0    0    0    0    0    0    0    0    1]\n",
            " [   0    1    0    0    0    0    0    0    2    0    0    0    0    0\n",
            "     0    0    0   98    0    0    2    0    0    0    0    0    1]\n",
            " [   0    0    0    0    0    0    0    0    0    0    0    0    0    0\n",
            "     0    0    0    0   26    0    0    0    0    0    1    0    0]\n",
            " [   0    0    0    0    0    0    0    0    0    0    0    0    0    0\n",
            "     0    0    0    1    0   95    3    0    0    0    0    0    1]\n",
            " [   0    0    1    0    0    0    1    0    5    0    1    0    0    8\n",
            "     0    0    0    0    0    0   83    0    0    1    0    0    2]\n",
            " [   0    1    0    0    0    0    0    0    1    0    0    1    0    0\n",
            "     0    1    0    0    1    0    1   81    1    0    1    1    0]\n",
            " [   0    0    0    0    0    1    0    0    0    0    0    0    0    0\n",
            "     0    0    1    1    0    0    0    2   96    0    0    0    0]\n",
            " [   3    0    0    1    0    0    0    0    0    0    0    0    0    0\n",
            "     0    0    0    1    0    0    4    0    0   96    0    0    1]\n",
            " [   0    1    2    0    0    0    0    0    0    1    0    0    0    0\n",
            "     0    0    0    2    0    0    3    0    0    0   52    0    1]\n",
            " [   0    0    0    0    0    0    0    0    0    0    0    3    0    0\n",
            "     0    0    0    0    0    0    0    1    0    0    0   95    0]\n",
            " [   1    1    0    0    0    0    0    0    0    0    0    0    0    4\n",
            "     0    0    1    2    0    2    2    0    0    1    0    0   87]]\n",
            "\n",
            "Classification Report (Top 5 Classes):\n",
            "               precision    recall  f1-score   support\n",
            "\n",
            "  Agenttesla       0.88      0.96      0.91        67\n",
            "      Benign       1.00      0.99      0.99      2176\n",
            "      Cerber       0.94      0.94      0.94        66\n",
            "    DarkSide       0.96      0.97      0.96        67\n",
            "      Dharma       0.99      0.97      0.98       101\n",
            "      Emotet       0.95      0.88      0.92        69\n",
            "    Formbook       0.96      0.95      0.95        95\n",
            "    Gandcrab       0.99      0.97      0.98        76\n",
            "       Gh0st       0.89      0.85      0.87        91\n",
            "    Glupteba       0.97      0.97      0.97        69\n",
            "    Guloader       0.95      0.93      0.94        89\n",
            "     LockBit       0.94      0.97      0.96        88\n",
            "        Maze       1.00      1.00      1.00        58\n",
            "    NanoCore       0.85      0.89      0.87\n"
          ]
        },
        {
          "output_type": "display_data",
          "data": {
            "text/plain": [
              "<Figure size 1200x700 with 1 Axes>"
            ],
            "image/png": "[encoded data removed]"
          },
          "metadata": {}
        }
      ]
    },
    {
      "cell_type": "code",
      "source": [
        "plt.plot([0, 1], [0, 1], 'k--')\n",
        "plt.xlabel('False Positive Rate')\n",
        "plt.ylabel('True Positive Rate')\n",
        "plt.title('ROC Curve - Family Classification (Multiclass)')\n",
        "plt.legend(loc='best')\n",
        "plt.grid(True)\n",
        "plt.tight_layout()\n",
        "plt.show()\n"
      ],
      "metadata": {
        "id": "iPNB3iijbfTL",
        "outputId": "182730ab-488d-4e88-a3e4-e2c0defea898",
        "colab": {
          "base_uri": "https://localhost:8080/",
          "height": 542
        }
      },
      "execution_count": null,
      "outputs": [
        {
          "output_type": "stream",
          "name": "stderr",
          "text": [
            "/tmp/ipython-input-50-3300366573.py:5: UserWarning: No artists with labels found to put in legend.  Note that artists whose label start with an underscore are ignored when legend() is called with no argument.\n",
            "  plt.legend(loc='best')\n"
          ]
        },
        {
          "output_type": "display_data",
          "data": {
            "text/plain": [
              "<Figure size 640x480 with 1 Axes>"
            ],
            "image/png": "[encoded data removed]"
          },
          "metadata": {}
        }
      ]
    }
  ]
}